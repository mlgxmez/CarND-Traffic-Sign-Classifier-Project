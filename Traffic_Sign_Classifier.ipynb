{
 "cells": [
  {
   "cell_type": "markdown",
   "metadata": {},
   "source": [
    "# Self-Driving Car Engineer Nanodegree\n",
    "\n",
    "## Deep Learning\n",
    "\n",
    "## Project: Build a Traffic Sign Recognition Classifier\n",
    "\n",
    "In this notebook, a template is provided for you to implement your functionality in stages, which is required to successfully complete this project. If additional code is required that cannot be included in the notebook, be sure that the Python code is successfully imported and included in your submission if necessary. \n",
    "\n",
    "> **Note**: Once you have completed all of the code implementations, you need to finalize your work by exporting the iPython Notebook as an HTML document. Before exporting the notebook to html, all of the code cells need to have been run so that reviewers can see the final implementation and output. You can then export the notebook by using the menu above and navigating to  \\n\",\n",
    "    \"**File -> Download as -> HTML (.html)**. Include the finished document along with this notebook as your submission. \n",
    "\n",
    "In addition to implementing code, there is a writeup to complete. The writeup should be completed in a separate file, which can be either a markdown file or a pdf document. There is a [write up template](https://github.com/udacity/CarND-Traffic-Sign-Classifier-Project/blob/master/writeup_template.md) that can be used to guide the writing process. Completing the code template and writeup template will cover all of the [rubric points](https://review.udacity.com/#!/rubrics/481/view) for this project.\n",
    "\n",
    "The [rubric](https://review.udacity.com/#!/rubrics/481/view) contains \"Stand Out Suggestions\" for enhancing the project beyond the minimum requirements. The stand out suggestions are optional. If you decide to pursue the \"stand out suggestions\", you can include the code in this Ipython notebook and also discuss the results in the writeup file.\n",
    "\n",
    "\n",
    ">**Note:** Code and Markdown cells can be executed using the **Shift + Enter** keyboard shortcut. In addition, Markdown cells can be edited by typically double-clicking the cell to enter edit mode."
   ]
  },
  {
   "cell_type": "markdown",
   "metadata": {},
   "source": [
    "---\n",
    "## Step 0: Load The Data"
   ]
  },
  {
   "cell_type": "code",
   "execution_count": 1,
   "metadata": {
    "collapsed": true
   },
   "outputs": [],
   "source": [
    "# Load pickled data\n",
    "import pickle\n",
    "\n",
    "# TODO: Fill this in based on where you saved the training and testing data\n",
    "\n",
    "training_file = \"./data/train.p\"\n",
    "validation_file= \"./data/valid.p\"\n",
    "testing_file = \"./data/test.p\"\n",
    "\n",
    "with open(training_file, mode='rb') as f:\n",
    "    train = pickle.load(f)\n",
    "with open(validation_file, mode='rb') as f:\n",
    "    valid = pickle.load(f)\n",
    "with open(testing_file, mode='rb') as f:\n",
    "    test = pickle.load(f)\n",
    "    \n",
    "X_train, y_train = train['features'], train['labels']\n",
    "X_valid, y_valid = valid['features'], valid['labels']\n",
    "X_test, y_test = test['features'], test['labels']"
   ]
  },
  {
   "cell_type": "markdown",
   "metadata": {},
   "source": [
    "---\n",
    "\n",
    "## Step 1: Dataset Summary & Exploration\n",
    "\n",
    "The pickled data is a dictionary with 4 key/value pairs:\n",
    "\n",
    "- `'features'` is a 4D array containing raw pixel data of the traffic sign images, (num examples, width, height, channels).\n",
    "- `'labels'` is a 1D array containing the label/class id of the traffic sign. The file `signnames.csv` contains id -> name mappings for each id.\n",
    "- `'sizes'` is a list containing tuples, (width, height) representing the original width and height the image.\n",
    "- `'coords'` is a list containing tuples, (x1, y1, x2, y2) representing coordinates of a bounding box around the sign in the image. **THESE COORDINATES ASSUME THE ORIGINAL IMAGE. THE PICKLED DATA CONTAINS RESIZED VERSIONS (32 by 32) OF THESE IMAGES**\n",
    "\n",
    "Complete the basic data summary below. Use python, numpy and/or pandas methods to calculate the data summary rather than hard coding the results. For example, the [pandas shape method](http://pandas.pydata.org/pandas-docs/stable/generated/pandas.DataFrame.shape.html) might be useful for calculating some of the summary results. "
   ]
  },
  {
   "cell_type": "markdown",
   "metadata": {},
   "source": [
    "### Provide a Basic Summary of the Data Set Using Python, Numpy and/or Pandas"
   ]
  },
  {
   "cell_type": "code",
   "execution_count": 2,
   "metadata": {},
   "outputs": [
    {
     "name": "stdout",
     "output_type": "stream",
     "text": [
      "Number of training examples = 34799\n",
      "Number of testing examples = 12630\n",
      "Image data shape = (32, 32)\n",
      "Number of classes = 43\n"
     ]
    }
   ],
   "source": [
    "### Replace each question mark with the appropriate value. \n",
    "### Use python, pandas or numpy methods rather than hard coding the results\n",
    "import numpy as np\n",
    "\n",
    "# TODO: Number of training examples\n",
    "n_train = len(y_train)\n",
    "\n",
    "# TODO: Number of validation examples\n",
    "n_validation = len(y_valid)\n",
    "\n",
    "# TODO: Number of testing examples.\n",
    "n_test = len(y_test)\n",
    "\n",
    "# TODO: What's the shape of an traffic sign image?\n",
    "image_shape = X_train.shape[1:3]\n",
    "\n",
    "# TODO: How many unique classes/labels there are in the dataset.\n",
    "n_classes = len(np.unique(np.concatenate((y_train, y_valid, y_test))))\n",
    "\n",
    "print(\"Number of training examples =\", n_train)\n",
    "print(\"Number of testing examples =\", n_test)\n",
    "print(\"Image data shape =\", image_shape)\n",
    "print(\"Number of classes =\", n_classes)"
   ]
  },
  {
   "cell_type": "markdown",
   "metadata": {},
   "source": [
    "### Include an exploratory visualization of the dataset"
   ]
  },
  {
   "cell_type": "markdown",
   "metadata": {},
   "source": [
    "Visualize the German Traffic Signs Dataset using the pickled file(s). This is open ended, suggestions include: plotting traffic sign images, plotting the count of each sign, etc. \n",
    "\n",
    "The [Matplotlib](http://matplotlib.org/) [examples](http://matplotlib.org/examples/index.html) and [gallery](http://matplotlib.org/gallery.html) pages are a great resource for doing visualizations in Python.\n",
    "\n",
    "**NOTE:** It's recommended you start with something simple first. If you wish to do more, come back to it after you've completed the rest of the sections. It can be interesting to look at the distribution of classes in the training, validation and test set. Is the distribution the same? Are there more examples of some classes than others?"
   ]
  },
  {
   "cell_type": "code",
   "execution_count": 3,
   "metadata": {
    "collapsed": true
   },
   "outputs": [],
   "source": [
    "### Data exploration visualization code goes here.\n",
    "### Feel free to use as many code cells as needed.\n",
    "import matplotlib.pyplot as plt\n",
    "# Visualizations will be shown in the notebook.\n",
    "%matplotlib inline"
   ]
  },
  {
   "cell_type": "markdown",
   "metadata": {},
   "source": [
    "### Bar diagram of the distribution of classes"
   ]
  },
  {
   "cell_type": "code",
   "execution_count": 4,
   "metadata": {
    "collapsed": true
   },
   "outputs": [],
   "source": [
    "# Function to plot the distribution of classes\n",
    "def plot_classes(class_array, var_name):\n",
    "    a = np.unique(class_array, return_counts=True)\n",
    "    plt.figure()\n",
    "    plt.bar(a[0].tolist(), a[1].tolist())\n",
    "    plt.xlabel(\"Classes\")\n",
    "    plt.ylabel(\"Counts\")\n",
    "    plt.title(\"Distribution of classes of \" + var_name)\n",
    "    plt.show()"
   ]
  },
  {
   "cell_type": "code",
   "execution_count": 5,
   "metadata": {},
   "outputs": [
    {
     "data": {
      "image/png": "[encoded data removed]",
      "text/plain": [
       "<matplotlib.figure.Figure at 0x7f9f93a17278>"
      ]
     },
     "metadata": {},
     "output_type": "display_data"
    }
   ],
   "source": [
    "### Distribution of classes in the training examples\n",
    "plot_classes(y_train, \"y_train\")"
   ]
  },
  {
   "cell_type": "markdown",
   "metadata": {},
   "source": [
    "The distribution of classes is quite unbalaced. Some classes have ten times the number of samples of the label with the smallest number of samples. It is recommended to apply data augmentation techniques so that every class have a similar number of images for training."
   ]
  },
  {
   "cell_type": "markdown",
   "metadata": {},
   "source": [
    "----\n",
    "\n",
    "## Step 2: Design and Test a Model Architecture\n",
    "\n",
    "Design and implement a deep learning model that learns to recognize traffic signs. Train and test your model on the [German Traffic Sign Dataset](http://benchmark.ini.rub.de/?section=gtsrb&subsection=dataset).\n",
    "\n",
    "The LeNet-5 implementation shown in the [classroom](https://classroom.udacity.com/nanodegrees/nd013/parts/fbf77062-5703-404e-b60c-95b78b2f3f9e/modules/6df7ae49-c61c-4bb2-a23e-6527e69209ec/lessons/601ae704-1035-4287-8b11-e2c2716217ad/concepts/d4aca031-508f-4e0b-b493-e7b706120f81) at the end of the CNN lesson is a solid starting point. You'll have to change the number of classes and possibly the preprocessing, but aside from that it's plug and play! \n",
    "\n",
    "With the LeNet-5 solution from the lecture, you should expect a validation set accuracy of about 0.89. To meet specifications, the validation set accuracy will need to be at least 0.93. It is possible to get an even higher accuracy, but 0.93 is the minimum for a successful project submission. \n",
    "\n",
    "There are various aspects to consider when thinking about this problem:\n",
    "\n",
    "- Neural network architecture (is the network over or underfitting?)\n",
    "- Play around preprocessing techniques (normalization, rgb to grayscale, etc)\n",
    "- Number of examples per label (some have more than others).\n",
    "- Generate fake data.\n",
    "\n",
    "Here is an example of a [published baseline model on this problem](http://yann.lecun.com/exdb/publis/pdf/sermanet-ijcnn-11.pdf). It's not required to be familiar with the approach used in the paper but, it's good practice to try to read papers like these."
   ]
  },
  {
   "cell_type": "markdown",
   "metadata": {},
   "source": [
    "### Pre-process the Data Set (normalization, grayscale, etc.)"
   ]
  },
  {
   "cell_type": "markdown",
   "metadata": {},
   "source": [
    "Minimally, the image data should be normalized so that the data has mean zero and equal variance. For image data, `(pixel - 128)/ 128` is a quick way to approximately normalize the data and can be used in this project. \n",
    "\n",
    "Other pre-processing steps are optional. You can try different techniques to see if it improves performance. \n",
    "\n",
    "Use the code cell (or multiple code cells, if necessary) to implement the first step of your project."
   ]
  },
  {
   "cell_type": "code",
   "execution_count": 6,
   "metadata": {
    "collapsed": true
   },
   "outputs": [],
   "source": [
    "# To change the image to grayscale (R + G + B)/3\n",
    "# And image normalization\n",
    "\n",
    "def data_normalization(X):\n",
    "    Xgray = np.sum(X,axis=3)/3\n",
    "    Xnorm = (Xgray - 128)/128\n",
    "    Xnorm = Xnorm.astype(np.float32)\n",
    "    Xnorm = Xnorm.reshape((-1, 32, 32, 1))\n",
    "    return(Xnorm)\n",
    "\n",
    "Xn_train = data_normalization(X_train)\n",
    "\n",
    "Xn_test = data_normalization(X_test)\n",
    "\n",
    "Xn_valid = data_normalization(X_valid)\n"
   ]
  },
  {
   "cell_type": "markdown",
   "metadata": {},
   "source": [
    "### Data augmentation"
   ]
  },
  {
   "cell_type": "code",
   "execution_count": 7,
   "metadata": {
    "collapsed": true
   },
   "outputs": [],
   "source": [
    "# Additive Gaussian noise to each image\n",
    "from scipy.ndimage import gaussian_filter, zoom, rotate\n",
    "\n",
    "# Function to crop sqaure images since zoom and rotation methods increase the size of images\n",
    "def square_crop(img, size):\n",
    "    width, height, _ = img.shape\n",
    "    init_width = int(width/2) - int(size/2)\n",
    "    end_width = int(width/2) + int(size/2)\n",
    "    init_height = int(height/2) - int(size/2)\n",
    "    end_height = int(height/2) + int(size/2)\n",
    "    cropped_img = img[init_width:end_width,init_height:end_height]\n",
    "    return cropped_img\n",
    "    \n",
    "\n",
    "def augmentation(X, y):\n",
    "    \n",
    "    X_length = len(X)\n",
    "   \n",
    "    # 1. Aungmentation by zoom.\n",
    "    def aug_zoom(X):\n",
    "        Xcp = X.copy()\n",
    "        factor = 1.25\n",
    "        for i in range(X_length):\n",
    "            zoomed_Xcp = zoom(Xcp[i,:,:],zoom=factor)\n",
    "            zoomed_Xcp = square_crop(zoomed_Xcp, 32)\n",
    "            Xcp[i,:,:] = zoomed_Xcp\n",
    "        return Xcp\n",
    "    \n",
    "     # 2. Augmentation by rotation [-20, -10, 0, +10, +20].\n",
    "    def aug_rotation(X):\n",
    "        angles = range(-20,21,10)\n",
    "        for ng in angles:\n",
    "            Xcp = X.copy()\n",
    "            for j in range(X_length):\n",
    "                rot_img = rotate(Xcp[j,:,:], angle=ng)\n",
    "                Xcp[j,:,:] = square_crop(rot_img, 32)\n",
    "            if ng == angles[0]:\n",
    "                Xangle = Xcp\n",
    "            else:\n",
    "                Xangle = np.vstack((Xangle, Xcp))\n",
    "        return Xangle\n",
    "    \n",
    "    # 3. Augmentation by blurring images [3, 6] in step 2.\n",
    "    def aug_blur(X):\n",
    "        Xcp = X.copy()\n",
    "        for k in range(X_length):\n",
    "            Xcp[k,:,:] = gaussian_filter(Xcp[k,:,:], sigma=5)\n",
    "        return Xcp\n",
    "    \n",
    "    Xaug_zoom = aug_zoom(X)\n",
    "    Xaug_rot = aug_rotation(X)\n",
    "    Xaug_blur = aug_blur(Xaug_rot)\n",
    "    \n",
    "    X_augmented_total = np.vstack((Xaug_zoom, Xaug_rot, Xaug_blur))\n",
    "    inc_factor = int(X_augmented_total.shape[0]/len(y))\n",
    "    y_augmented_total = np.tile(y, inc_factor)\n",
    "    \n",
    "    return X_augmented_total, y_augmented_total\n"
   ]
  },
  {
   "cell_type": "code",
   "execution_count": 8,
   "metadata": {
    "collapsed": true
   },
   "outputs": [],
   "source": [
    "# Generate the new images\n",
    "newX, newy = augmentation(Xn_train, y_train)"
   ]
  },
  {
   "cell_type": "code",
   "execution_count": 9,
   "metadata": {
    "collapsed": true
   },
   "outputs": [],
   "source": [
    "# For each class set a limit on the number of images\n",
    "count_labels = np.unique(newy, return_counts=True)\n",
    "thr = np.min(count_labels[1])"
   ]
  },
  {
   "cell_type": "markdown",
   "metadata": {},
   "source": [
    "The maximum number of images for each class will be the lowest number of samples among all classes"
   ]
  },
  {
   "cell_type": "code",
   "execution_count": 10,
   "metadata": {
    "collapsed": true
   },
   "outputs": [],
   "source": [
    "idx_list = []\n",
    "for cl in range(n_classes):\n",
    "    # Get the indices of every class in the label vector\n",
    "    idx_newy = np.where(newy == cl)\n",
    "    idx_list.append(idx_newy[0][:thr])\n",
    "\n",
    "idx_array = np.concatenate(idx_list, axis=0)"
   ]
  },
  {
   "cell_type": "code",
   "execution_count": 11,
   "metadata": {
    "collapsed": true
   },
   "outputs": [],
   "source": [
    "# This new array of images have the same number of samples in every class\n",
    "newX_train = newX[np.ix_(idx_array)]\n",
    "newy_train = newy[np.ix_(idx_array)]"
   ]
  },
  {
   "cell_type": "code",
   "execution_count": 12,
   "metadata": {
    "scrolled": true
   },
   "outputs": [
    {
     "data": {
      "image/png": "[encoded data removed]",
      "text/plain": [
       "<matplotlib.figure.Figure at 0x7f9fc5280a58>"
      ]
     },
     "metadata": {},
     "output_type": "display_data"
    }
   ],
   "source": [
    "plot_classes(newy_train,'newy_train')"
   ]
  },
  {
   "cell_type": "markdown",
   "metadata": {},
   "source": [
    "### Model Architecture"
   ]
  },
  {
   "cell_type": "code",
   "execution_count": 13,
   "metadata": {
    "collapsed": true
   },
   "outputs": [],
   "source": [
    "EPOCHS = 100\n",
    "BATCH_SIZE = 128"
   ]
  },
  {
   "cell_type": "code",
   "execution_count": 14,
   "metadata": {},
   "outputs": [],
   "source": [
    "# The architecture of the network will be similar to LeNet (but call it LeNet :) )\n",
    "import tensorflow as tf\n",
    "from tensorflow.contrib.layers import flatten\n",
    "\n",
    "\n",
    "def LeNet(x, keep_prob):\n",
    "    mu = 0\n",
    "    sigma = 0.1\n",
    "    # Layer 1: Convolutional. Input = 32x32x3. Output = 28x28x6.\n",
    "    conv1_W = tf.Variable(tf.truncated_normal(shape=(5,5,1,6), mean = mu, stddev = sigma))\n",
    "    conv1_b = tf.Variable(tf.zeros(6))\n",
    "    conv1 = tf.nn.conv2d(x, conv1_W, strides=[1,1,1,1], padding='VALID') + conv1_b\n",
    "    # Activation function\n",
    "    conv1 = tf.nn.relu(conv1)\n",
    "    # Pooling. Input = 28x28x6. Output = 14x14x6.\n",
    "    conv1 = tf.nn.max_pool(conv1, ksize=[1,2,2,1], strides=[1,2,2,1], padding='VALID')\n",
    "    # Layer 2: Convolutional. Output = 10x10x16\n",
    "    conv2_W = tf.Variable(tf.truncated_normal(shape=(5,5,6,16), mean = mu, stddev = sigma))\n",
    "    conv2_b = tf.Variable(tf.zeros(16))\n",
    "    conv2 = tf.nn.conv2d(conv1, conv2_W, strides=[1,1,1,1], padding='VALID') + conv2_b\n",
    "    # Activation function\n",
    "    conv2 = tf.nn.relu(conv2)\n",
    "    # Pooling. Input = 10x10x16. Output = 5x5x16\n",
    "    conv2 = tf.nn.max_pool(conv2, ksize=[1,2,2,1], strides=[1,2,2,1], padding='VALID')\n",
    "    # Flatten. Input = 5x5x16. Output = 400\n",
    "    fc0 = flatten(conv2)\n",
    "    # Layer 3: Fully Connected. Input = 400. Output = 120\n",
    "    fc1_W = tf.Variable(tf.truncated_normal(shape=(400,120), mean = mu, stddev = sigma))\n",
    "    fc1_b = tf.Variable(tf.zeros(120))\n",
    "    fc1 = tf.matmul(fc0, fc1_W) + fc1_b\n",
    "    # Activation function\n",
    "    fc1 = tf.nn.relu(fc1)\n",
    "    #fc1 = lrelu(fc1,0.1)\n",
    "    # Dropout\n",
    "    fc1 = tf.nn.dropout(fc1, keep_prob)\n",
    "    # Layer 4: Fully Connected. Input = 120. Output = 84\n",
    "    fc2_W = tf.Variable(tf.truncated_normal(shape=(120, 84), mean = mu, stddev = sigma))\n",
    "    fc2_b = tf.Variable(tf.zeros(84))\n",
    "    fc2 = tf.matmul(fc1, fc2_W) + fc2_b\n",
    "    # Activation function\n",
    "    fc2 = tf.nn.relu(fc2)\n",
    "    #fc2 = lrelu(fc2,0.1)\n",
    "    # Dropout\n",
    "    fc2 = tf.nn.dropout(fc2, keep_prob)\n",
    "    # Layer 5: Fully Connected. Input = 84. Output = 43\n",
    "    fc3_W = tf.Variable(tf.truncated_normal(shape=(84, 43), mean = mu, stddev = sigma))\n",
    "    fc3_b = tf.Variable(tf.zeros(43))\n",
    "    logits = tf.matmul(fc2, fc3_W) + fc3_b\n",
    "    return logits\n",
    "\n"
   ]
  },
  {
   "cell_type": "markdown",
   "metadata": {},
   "source": [
    "### Train, Validate and Test the Model"
   ]
  },
  {
   "cell_type": "markdown",
   "metadata": {},
   "source": [
    "A validation set can be used to assess how well the model is performing. A low accuracy on the training and validation\n",
    "sets imply underfitting. A high accuracy on the training set but low accuracy on the validation set implies overfitting."
   ]
  },
  {
   "cell_type": "code",
   "execution_count": 15,
   "metadata": {
    "collapsed": true
   },
   "outputs": [],
   "source": [
    "### Train your model here.\n",
    "### Calculate and report the accuracy on the training and validation set.\n",
    "### Once a final model architecture is selected, \n",
    "### the accuracy on the test set should be calculated and reported as well.\n",
    "### Feel free to use as many code cells as needed.\n"
   ]
  },
  {
   "cell_type": "code",
   "execution_count": 26,
   "metadata": {
    "collapsed": true
   },
   "outputs": [],
   "source": [
    "tf.reset_default_graph()"
   ]
  },
  {
   "cell_type": "code",
   "execution_count": 27,
   "metadata": {
    "collapsed": true
   },
   "outputs": [],
   "source": [
    "x = tf.placeholder(tf.float32, (None, 32, 32,1))\n",
    "y = tf.placeholder(tf.int32, (None))\n",
    "one_hot_y = tf.one_hot(y, 43)\n",
    "keep_prob = tf.placeholder(tf.float32, name='k_prob')"
   ]
  },
  {
   "cell_type": "code",
   "execution_count": 28,
   "metadata": {},
   "outputs": [],
   "source": [
    "rate = 0.001\n",
    "\n",
    "logits = LeNet(x, keep_prob)\n",
    "cross_entropy = tf.nn.softmax_cross_entropy_with_logits(labels=one_hot_y, logits=logits)\n",
    "loss_operation = tf.reduce_mean(cross_entropy)\n",
    "optimizer = tf.train.AdamOptimizer(learning_rate = rate)\n",
    "training_operation = optimizer.minimize(loss_operation)"
   ]
  },
  {
   "cell_type": "code",
   "execution_count": 29,
   "metadata": {
    "collapsed": true
   },
   "outputs": [],
   "source": [
    "correct_prediction = tf.equal(tf.argmax(logits, 1), tf.argmax(one_hot_y, 1))\n",
    "accuracy_operation = tf.reduce_mean(tf.cast(correct_prediction, tf.float32))\n",
    "saver = tf.train.Saver()\n",
    "\n",
    "def evaluate(X_data, y_data):\n",
    "    num_examples = len(X_data)\n",
    "    total_accuracy = 0\n",
    "    sess = tf.get_default_session()\n",
    "    for offset in range(0, num_examples, BATCH_SIZE):\n",
    "        batch_x, batch_y = X_data[offset:offset+BATCH_SIZE], y_data[offset:offset+BATCH_SIZE]\n",
    "        accuracy = sess.run(accuracy_operation, feed_dict={x: batch_x, y: batch_y, keep_prob:1.0})\n",
    "        total_accuracy += (accuracy * len(batch_x))\n",
    "    return total_accuracy / num_examples\n",
    "\n",
    "acc_train=[]\n",
    "acc_valid=[]"
   ]
  },
  {
   "cell_type": "code",
   "execution_count": 30,
   "metadata": {},
   "outputs": [
    {
     "name": "stdout",
     "output_type": "stream",
     "text": [
      "Training...\n",
      "\n",
      "EPOCH 1 ...\n",
      "Training Accuracy = 0.808; Validation Accuracy = 0.645\n",
      "\n",
      "EPOCH 2 ...\n",
      "Training Accuracy = 0.891; Validation Accuracy = 0.795\n",
      "\n",
      "EPOCH 3 ...\n",
      "Training Accuracy = 0.929; Validation Accuracy = 0.849\n",
      "\n",
      "EPOCH 4 ...\n",
      "Training Accuracy = 0.941; Validation Accuracy = 0.854\n",
      "\n",
      "EPOCH 5 ...\n",
      "Training Accuracy = 0.952; Validation Accuracy = 0.885\n",
      "\n",
      "EPOCH 6 ...\n",
      "Training Accuracy = 0.960; Validation Accuracy = 0.898\n",
      "\n",
      "EPOCH 7 ...\n",
      "Training Accuracy = 0.964; Validation Accuracy = 0.901\n",
      "\n",
      "EPOCH 8 ...\n",
      "Training Accuracy = 0.964; Validation Accuracy = 0.910\n",
      "\n",
      "EPOCH 9 ...\n",
      "Training Accuracy = 0.969; Validation Accuracy = 0.908\n",
      "\n",
      "EPOCH 10 ...\n",
      "Training Accuracy = 0.966; Validation Accuracy = 0.900\n",
      "\n",
      "EPOCH 11 ...\n",
      "Training Accuracy = 0.973; Validation Accuracy = 0.912\n",
      "\n",
      "EPOCH 12 ...\n",
      "Training Accuracy = 0.975; Validation Accuracy = 0.924\n",
      "\n",
      "EPOCH 13 ...\n",
      "Training Accuracy = 0.977; Validation Accuracy = 0.923\n",
      "\n",
      "EPOCH 14 ...\n",
      "Training Accuracy = 0.979; Validation Accuracy = 0.932\n",
      "\n",
      "EPOCH 15 ...\n",
      "Training Accuracy = 0.978; Validation Accuracy = 0.929\n",
      "\n",
      "EPOCH 16 ...\n",
      "Training Accuracy = 0.981; Validation Accuracy = 0.924\n",
      "\n",
      "EPOCH 17 ...\n",
      "Training Accuracy = 0.982; Validation Accuracy = 0.932\n",
      "\n",
      "EPOCH 18 ...\n",
      "Training Accuracy = 0.982; Validation Accuracy = 0.929\n",
      "\n",
      "EPOCH 19 ...\n",
      "Training Accuracy = 0.984; Validation Accuracy = 0.933\n",
      "\n",
      "EPOCH 20 ...\n",
      "Training Accuracy = 0.983; Validation Accuracy = 0.929\n",
      "\n",
      "EPOCH 21 ...\n",
      "Training Accuracy = 0.984; Validation Accuracy = 0.930\n",
      "\n",
      "EPOCH 22 ...\n",
      "Training Accuracy = 0.985; Validation Accuracy = 0.936\n",
      "\n",
      "EPOCH 23 ...\n",
      "Training Accuracy = 0.986; Validation Accuracy = 0.929\n",
      "\n",
      "EPOCH 24 ...\n",
      "Training Accuracy = 0.987; Validation Accuracy = 0.934\n",
      "\n",
      "EPOCH 25 ...\n",
      "Training Accuracy = 0.986; Validation Accuracy = 0.935\n",
      "\n",
      "EPOCH 26 ...\n",
      "Training Accuracy = 0.983; Validation Accuracy = 0.931\n",
      "\n",
      "EPOCH 27 ...\n",
      "Training Accuracy = 0.985; Validation Accuracy = 0.931\n",
      "\n",
      "EPOCH 28 ...\n",
      "Training Accuracy = 0.988; Validation Accuracy = 0.937\n",
      "\n",
      "EPOCH 29 ...\n",
      "Training Accuracy = 0.987; Validation Accuracy = 0.929\n",
      "\n",
      "EPOCH 30 ...\n",
      "Training Accuracy = 0.988; Validation Accuracy = 0.934\n",
      "\n",
      "EPOCH 31 ...\n",
      "Training Accuracy = 0.988; Validation Accuracy = 0.930\n",
      "\n",
      "EPOCH 32 ...\n",
      "Training Accuracy = 0.988; Validation Accuracy = 0.937\n",
      "\n",
      "EPOCH 33 ...\n",
      "Training Accuracy = 0.987; Validation Accuracy = 0.925\n",
      "\n",
      "EPOCH 34 ...\n",
      "Training Accuracy = 0.989; Validation Accuracy = 0.931\n",
      "\n",
      "EPOCH 35 ...\n",
      "Training Accuracy = 0.988; Validation Accuracy = 0.928\n",
      "\n",
      "EPOCH 36 ...\n",
      "Training Accuracy = 0.989; Validation Accuracy = 0.932\n",
      "\n",
      "EPOCH 37 ...\n",
      "Training Accuracy = 0.990; Validation Accuracy = 0.928\n",
      "\n",
      "EPOCH 38 ...\n",
      "Training Accuracy = 0.990; Validation Accuracy = 0.930\n",
      "\n",
      "EPOCH 39 ...\n",
      "Training Accuracy = 0.990; Validation Accuracy = 0.931\n",
      "\n",
      "EPOCH 40 ...\n",
      "Training Accuracy = 0.987; Validation Accuracy = 0.933\n",
      "\n",
      "EPOCH 41 ...\n",
      "Training Accuracy = 0.990; Validation Accuracy = 0.934\n",
      "\n",
      "EPOCH 42 ...\n",
      "Training Accuracy = 0.986; Validation Accuracy = 0.932\n",
      "\n",
      "EPOCH 43 ...\n",
      "Training Accuracy = 0.990; Validation Accuracy = 0.935\n",
      "\n",
      "EPOCH 44 ...\n",
      "Training Accuracy = 0.991; Validation Accuracy = 0.939\n",
      "\n",
      "EPOCH 45 ...\n",
      "Training Accuracy = 0.991; Validation Accuracy = 0.929\n",
      "\n",
      "EPOCH 46 ...\n",
      "Training Accuracy = 0.991; Validation Accuracy = 0.943\n",
      "\n",
      "EPOCH 47 ...\n",
      "Training Accuracy = 0.992; Validation Accuracy = 0.937\n",
      "\n",
      "EPOCH 48 ...\n",
      "Training Accuracy = 0.991; Validation Accuracy = 0.934\n",
      "\n",
      "EPOCH 49 ...\n",
      "Training Accuracy = 0.989; Validation Accuracy = 0.941\n",
      "\n",
      "EPOCH 50 ...\n",
      "Training Accuracy = 0.988; Validation Accuracy = 0.938\n",
      "\n",
      "EPOCH 51 ...\n",
      "Training Accuracy = 0.992; Validation Accuracy = 0.935\n",
      "\n",
      "EPOCH 52 ...\n",
      "Training Accuracy = 0.992; Validation Accuracy = 0.941\n",
      "\n",
      "EPOCH 53 ...\n",
      "Training Accuracy = 0.992; Validation Accuracy = 0.936\n",
      "\n",
      "EPOCH 54 ...\n",
      "Training Accuracy = 0.993; Validation Accuracy = 0.935\n",
      "\n",
      "EPOCH 55 ...\n",
      "Training Accuracy = 0.989; Validation Accuracy = 0.929\n",
      "\n",
      "EPOCH 56 ...\n",
      "Training Accuracy = 0.991; Validation Accuracy = 0.943\n",
      "\n",
      "EPOCH 57 ...\n",
      "Training Accuracy = 0.988; Validation Accuracy = 0.931\n",
      "\n",
      "EPOCH 58 ...\n",
      "Training Accuracy = 0.991; Validation Accuracy = 0.934\n",
      "\n",
      "EPOCH 59 ...\n",
      "Training Accuracy = 0.993; Validation Accuracy = 0.939\n",
      "\n",
      "EPOCH 60 ...\n",
      "Training Accuracy = 0.992; Validation Accuracy = 0.933\n",
      "\n",
      "EPOCH 61 ...\n",
      "Training Accuracy = 0.993; Validation Accuracy = 0.939\n",
      "\n",
      "EPOCH 62 ...\n",
      "Training Accuracy = 0.992; Validation Accuracy = 0.929\n",
      "\n",
      "EPOCH 63 ...\n",
      "Training Accuracy = 0.992; Validation Accuracy = 0.937\n",
      "\n",
      "EPOCH 64 ...\n",
      "Training Accuracy = 0.994; Validation Accuracy = 0.937\n",
      "\n",
      "EPOCH 65 ...\n",
      "Training Accuracy = 0.992; Validation Accuracy = 0.941\n",
      "\n",
      "EPOCH 66 ...\n",
      "Training Accuracy = 0.992; Validation Accuracy = 0.927\n",
      "\n",
      "EPOCH 67 ...\n",
      "Training Accuracy = 0.993; Validation Accuracy = 0.941\n",
      "\n",
      "EPOCH 68 ...\n",
      "Training Accuracy = 0.992; Validation Accuracy = 0.937\n",
      "\n",
      "EPOCH 69 ...\n",
      "Training Accuracy = 0.992; Validation Accuracy = 0.942\n",
      "\n",
      "EPOCH 70 ...\n",
      "Training Accuracy = 0.993; Validation Accuracy = 0.939\n",
      "\n",
      "EPOCH 71 ...\n",
      "Training Accuracy = 0.992; Validation Accuracy = 0.942\n",
      "\n",
      "EPOCH 72 ...\n",
      "Training Accuracy = 0.992; Validation Accuracy = 0.942\n",
      "\n",
      "EPOCH 73 ...\n",
      "Training Accuracy = 0.992; Validation Accuracy = 0.934\n",
      "\n",
      "EPOCH 74 ...\n",
      "Training Accuracy = 0.994; Validation Accuracy = 0.935\n",
      "\n",
      "EPOCH 75 ...\n",
      "Training Accuracy = 0.992; Validation Accuracy = 0.940\n",
      "\n",
      "EPOCH 76 ...\n",
      "Training Accuracy = 0.994; Validation Accuracy = 0.940\n",
      "\n",
      "EPOCH 77 ...\n",
      "Training Accuracy = 0.993; Validation Accuracy = 0.945\n",
      "\n",
      "EPOCH 78 ...\n",
      "Training Accuracy = 0.992; Validation Accuracy = 0.939\n",
      "\n",
      "EPOCH 79 ...\n",
      "Training Accuracy = 0.993; Validation Accuracy = 0.945\n",
      "\n",
      "EPOCH 80 ...\n",
      "Training Accuracy = 0.993; Validation Accuracy = 0.931\n",
      "\n",
      "EPOCH 81 ...\n",
      "Training Accuracy = 0.992; Validation Accuracy = 0.935\n",
      "\n",
      "EPOCH 82 ...\n",
      "Training Accuracy = 0.992; Validation Accuracy = 0.938\n",
      "\n",
      "EPOCH 83 ...\n",
      "Training Accuracy = 0.993; Validation Accuracy = 0.943\n",
      "\n",
      "EPOCH 84 ...\n",
      "Training Accuracy = 0.994; Validation Accuracy = 0.948\n",
      "\n",
      "EPOCH 85 ...\n",
      "Training Accuracy = 0.992; Validation Accuracy = 0.940\n",
      "\n",
      "EPOCH 86 ...\n",
      "Training Accuracy = 0.991; Validation Accuracy = 0.940\n",
      "\n",
      "EPOCH 87 ...\n",
      "Training Accuracy = 0.992; Validation Accuracy = 0.941\n",
      "\n",
      "EPOCH 88 ...\n",
      "Training Accuracy = 0.990; Validation Accuracy = 0.927\n",
      "\n",
      "EPOCH 89 ...\n",
      "Training Accuracy = 0.993; Validation Accuracy = 0.934\n",
      "\n",
      "EPOCH 90 ...\n",
      "Training Accuracy = 0.993; Validation Accuracy = 0.941\n",
      "\n",
      "EPOCH 91 ...\n",
      "Training Accuracy = 0.994; Validation Accuracy = 0.940\n",
      "\n",
      "EPOCH 92 ...\n",
      "Training Accuracy = 0.993; Validation Accuracy = 0.940\n",
      "\n",
      "EPOCH 93 ...\n",
      "Training Accuracy = 0.993; Validation Accuracy = 0.944\n",
      "\n",
      "EPOCH 94 ...\n",
      "Training Accuracy = 0.991; Validation Accuracy = 0.939\n",
      "\n",
      "EPOCH 95 ...\n",
      "Training Accuracy = 0.993; Validation Accuracy = 0.934\n",
      "\n",
      "EPOCH 96 ...\n",
      "Training Accuracy = 0.991; Validation Accuracy = 0.945\n",
      "\n",
      "EPOCH 97 ...\n",
      "Training Accuracy = 0.993; Validation Accuracy = 0.942\n",
      "\n",
      "EPOCH 98 ...\n",
      "Training Accuracy = 0.991; Validation Accuracy = 0.940\n",
      "\n",
      "EPOCH 99 ...\n",
      "Training Accuracy = 0.993; Validation Accuracy = 0.941\n",
      "\n",
      "EPOCH 100 ...\n",
      "Training Accuracy = 0.994; Validation Accuracy = 0.939\n",
      "\n",
      "Model saved\n"
     ]
    }
   ],
   "source": [
    "from sklearn.utils import shuffle\n",
    "\n",
    "with tf.Session() as sess:\n",
    "    sess.run(tf.global_variables_initializer())\n",
    "    num_examples = len(newX_train)\n",
    "    \n",
    "    print(\"Training...\")\n",
    "    print()\n",
    "    for i in range(EPOCHS):\n",
    "        newX_train, newy_train = shuffle(newX_train, newy_train)\n",
    "        for offset in range(0, num_examples, BATCH_SIZE):\n",
    "            end = offset + BATCH_SIZE\n",
    "            batch_x, batch_y = newX_train[offset:end], newy_train[offset:end]\n",
    "            sess.run(training_operation, feed_dict={x: batch_x, y: batch_y, keep_prob:0.5})\n",
    "        \n",
    "        # ERROR HERE!\n",
    "        train_accuracy = evaluate(newX_train, newy_train)\n",
    "        validation_accuracy = evaluate(Xn_valid, y_valid)\n",
    "        \n",
    "        acc_train.append(train_accuracy)\n",
    "        acc_valid.append(validation_accuracy)\n",
    "        \n",
    "        print(\"EPOCH {} ...\".format(i+1))\n",
    "        print(\"Training Accuracy = {:.3f}\".format(train_accuracy) +\"; Validation Accuracy = {:.3f}\".format(validation_accuracy))\n",
    "        print()\n",
    "        \n",
    "    saver.save(sess, './lenet')\n",
    "    print(\"Model saved\")"
   ]
  },
  {
   "cell_type": "code",
   "execution_count": 31,
   "metadata": {},
   "outputs": [
    {
     "name": "stdout",
     "output_type": "stream",
     "text": [
      "Test Accuracy = 0.912\n"
     ]
    }
   ],
   "source": [
    "with tf.Session() as sess:\n",
    "    saver.restore(sess, tf.train.latest_checkpoint('.'))\n",
    "\n",
    "    test_accuracy = evaluate(Xn_test, y_test)\n",
    "    print(\"Test Accuracy = {:.3f}\".format(test_accuracy))"
   ]
  },
  {
   "cell_type": "code",
   "execution_count": 32,
   "metadata": {},
   "outputs": [
    {
     "name": "stdout",
     "output_type": "stream",
     "text": [
      "accs saved\n"
     ]
    },
    {
     "data": {
      "image/png": "[encoded data removed]",
      "text/plain": [
       "<matplotlib.figure.Figure at 0x7f9f30145860>"
      ]
     },
     "metadata": {},
     "output_type": "display_data"
    }
   ],
   "source": [
    "import matplotlib.pyplot as plt\n",
    "\n",
    "def plot_save_accs(acc_train, acc_valid):\n",
    "    plt.plot(acc_train,'b',label ='Training Accuracy')\n",
    "    plt.plot(acc_valid,'g',label ='Validation Accuracy')\n",
    "    plt.xlabel('EPOCHS')\n",
    "    plt.ylabel('Accuracy')\n",
    "    plt.ylim([0.5, 1])\n",
    "    plt.legend(loc='best')\n",
    "    with open('accs.p', 'wb') as f:\n",
    "        pickle.dump((acc_train, acc_valid), f)\n",
    "        print('accs saved')\n",
    "\n",
    "plot_save_accs(acc_train, acc_valid)"
   ]
  },
  {
   "cell_type": "markdown",
   "metadata": {},
   "source": [
    "---\n",
    "\n",
    "## Step 3: Test a Model on New Images\n",
    "\n",
    "To give yourself more insight into how your model is working, download at least five pictures of German traffic signs from the web and use your model to predict the traffic sign type.\n",
    "\n",
    "You may find `signnames.csv` useful as it contains mappings from the class id (integer) to the actual sign name."
   ]
  },
  {
   "cell_type": "markdown",
   "metadata": {},
   "source": [
    "### Load and Output the Images"
   ]
  },
  {
   "cell_type": "code",
   "execution_count": 33,
   "metadata": {},
   "outputs": [
    {
     "name": "stdout",
     "output_type": "stream",
     "text": [
      "img1.png:\n"
     ]
    },
    {
     "data": {
      "image/png": "[encoded data removed]",
      "text/plain": [
       "<matplotlib.figure.Figure at 0x7f9f35c538d0>"
      ]
     },
     "metadata": {},
     "output_type": "display_data"
    },
    {
     "name": "stdout",
     "output_type": "stream",
     "text": [
      "img5.png:\n"
     ]
    },
    {
     "data": {
      "image/png": "[encoded data removed]",
      "text/plain": [
       "<matplotlib.figure.Figure at 0x7f9f5feacba8>"
      ]
     },
     "metadata": {},
     "output_type": "display_data"
    },
    {
     "name": "stdout",
     "output_type": "stream",
     "text": [
      "img2.png:\n"
     ]
    },
    {
     "data": {
      "image/png": "[encoded data removed]",
      "text/plain": [
       "<matplotlib.figure.Figure at 0x7f9f5fe3b748>"
      ]
     },
     "metadata": {},
     "output_type": "display_data"
    },
    {
     "name": "stdout",
     "output_type": "stream",
     "text": [
      "img3.png:\n"
     ]
    },
    {
     "data": {
      "image/png": "[encoded data removed]",
      "text/plain": [
       "<matplotlib.figure.Figure at 0x7f9f35c54518>"
      ]
     },
     "metadata": {},
     "output_type": "display_data"
    },
    {
     "name": "stdout",
     "output_type": "stream",
     "text": [
      "img4.png:\n"
     ]
    },
    {
     "data": {
      "image/png": "[encoded data removed]",
      "text/plain": [
       "<matplotlib.figure.Figure at 0x7f9f35d32208>"
      ]
     },
     "metadata": {},
     "output_type": "display_data"
    }
   ],
   "source": [
    "### Load the images and plot them here.\n",
    "### Feel free to use as many code cells as needed.\n",
    "from os import listdir\n",
    "from scipy import misc\n",
    "\n",
    "test_dir = \"./data/test/\"\n",
    "test_files = listdir(test_dir)\n",
    "\n",
    "images = []\n",
    "for f in test_files:\n",
    "    img = misc.imread(test_dir + f)\n",
    "    expanded_img = np.expand_dims(img, axis=0)\n",
    "    images.append(expanded_img)\n",
    "    print(f + \":\")\n",
    "    plt.imshow(img)\n",
    "    plt.show()\n",
    "    \n",
    "arrayTest = np.vstack(images)"
   ]
  },
  {
   "cell_type": "code",
   "execution_count": 34,
   "metadata": {},
   "outputs": [],
   "source": [
    "# The same normalization preprocess needs to be applied to test images\n",
    "arrayTest_norm = data_normalization(arrayTest)"
   ]
  },
  {
   "cell_type": "markdown",
   "metadata": {},
   "source": [
    "### Predict the Sign Type for Each Image"
   ]
  },
  {
   "cell_type": "code",
   "execution_count": 35,
   "metadata": {},
   "outputs": [],
   "source": [
    "with tf.Session() as sess:\n",
    "      \n",
    "    new_saver = tf.train.import_meta_graph('lenet.meta')  \n",
    "    new_saver.restore(sess, tf.train.latest_checkpoint('.'))       \n",
    "    predicted_logits = sess.run(tf.nn.softmax(logits), feed_dict={x: arrayTest_norm, keep_prob: 1.0})\n",
    "    "
   ]
  },
  {
   "cell_type": "code",
   "execution_count": 36,
   "metadata": {},
   "outputs": [
    {
     "data": {
      "text/html": [
       "<div>\n",
       "<style>\n",
       "    .dataframe thead tr:only-child th {\n",
       "        text-align: right;\n",
       "    }\n",
       "\n",
       "    .dataframe thead th {\n",
       "        text-align: left;\n",
       "    }\n",
       "\n",
       "    .dataframe tbody tr th {\n",
       "        vertical-align: top;\n",
       "    }\n",
       "</style>\n",
       "<table border=\"1\" class=\"dataframe\">\n",
       "  <thead>\n",
       "    <tr style=\"text-align: right;\">\n",
       "      <th></th>\n",
       "      <th>ClassId</th>\n",
       "      <th>SignName</th>\n",
       "    </tr>\n",
       "  </thead>\n",
       "  <tbody>\n",
       "    <tr>\n",
       "      <th>img1.png</th>\n",
       "      <td>25</td>\n",
       "      <td>Road work</td>\n",
       "    </tr>\n",
       "    <tr>\n",
       "      <th>img5.png</th>\n",
       "      <td>23</td>\n",
       "      <td>Slippery road</td>\n",
       "    </tr>\n",
       "    <tr>\n",
       "      <th>img2.png</th>\n",
       "      <td>17</td>\n",
       "      <td>No entry</td>\n",
       "    </tr>\n",
       "    <tr>\n",
       "      <th>img3.png</th>\n",
       "      <td>30</td>\n",
       "      <td>Beware of ice/snow</td>\n",
       "    </tr>\n",
       "    <tr>\n",
       "      <th>img4.png</th>\n",
       "      <td>0</td>\n",
       "      <td>Speed limit (20km/h)</td>\n",
       "    </tr>\n",
       "  </tbody>\n",
       "</table>\n",
       "</div>"
      ],
      "text/plain": [
       "          ClassId              SignName\n",
       "img1.png       25             Road work\n",
       "img5.png       23         Slippery road\n",
       "img2.png       17              No entry\n",
       "img3.png       30    Beware of ice/snow\n",
       "img4.png        0  Speed limit (20km/h)"
      ]
     },
     "execution_count": 36,
     "metadata": {},
     "output_type": "execute_result"
    }
   ],
   "source": [
    "import pandas as pd\n",
    "\n",
    "# Load traffic sign mapping class ID - traffic sign name\n",
    "sign_names_df = pd.read_csv('signnames.csv')\n",
    "idx_sign = [np.argmax(predicted_logits[j]) for j in range(len(predicted_logits))]\n",
    "\n",
    "sign_names_df.iloc[idx_sign,:].set_index([test_files])"
   ]
  },
  {
   "cell_type": "markdown",
   "metadata": {},
   "source": [
    "### Analyze Performance"
   ]
  },
  {
   "cell_type": "code",
   "execution_count": 37,
   "metadata": {
    "scrolled": true
   },
   "outputs": [
    {
     "data": {
      "text/html": [
       "<div>\n",
       "<style>\n",
       "    .dataframe thead tr:only-child th {\n",
       "        text-align: right;\n",
       "    }\n",
       "\n",
       "    .dataframe thead th {\n",
       "        text-align: left;\n",
       "    }\n",
       "\n",
       "    .dataframe tbody tr th {\n",
       "        vertical-align: top;\n",
       "    }\n",
       "</style>\n",
       "<table border=\"1\" class=\"dataframe\">\n",
       "  <thead>\n",
       "    <tr style=\"text-align: right;\">\n",
       "      <th></th>\n",
       "      <th>ClassId</th>\n",
       "      <th>SignName</th>\n",
       "      <th>Correct</th>\n",
       "    </tr>\n",
       "  </thead>\n",
       "  <tbody>\n",
       "    <tr>\n",
       "      <th>img1.png</th>\n",
       "      <td>25</td>\n",
       "      <td>Road work</td>\n",
       "      <td>Road work</td>\n",
       "    </tr>\n",
       "    <tr>\n",
       "      <th>img5.png</th>\n",
       "      <td>23</td>\n",
       "      <td>Slippery road</td>\n",
       "      <td>Slippery road</td>\n",
       "    </tr>\n",
       "    <tr>\n",
       "      <th>img2.png</th>\n",
       "      <td>17</td>\n",
       "      <td>No entry</td>\n",
       "      <td>No entry</td>\n",
       "    </tr>\n",
       "    <tr>\n",
       "      <th>img3.png</th>\n",
       "      <td>30</td>\n",
       "      <td>Beware of ice/snow</td>\n",
       "      <td>Bycicles crossing</td>\n",
       "    </tr>\n",
       "    <tr>\n",
       "      <th>img4.png</th>\n",
       "      <td>0</td>\n",
       "      <td>Speed limit (20km/h)</td>\n",
       "      <td>Recommended speed (70 km/h)</td>\n",
       "    </tr>\n",
       "  </tbody>\n",
       "</table>\n",
       "</div>"
      ],
      "text/plain": [
       "          ClassId              SignName                      Correct\n",
       "img1.png       25             Road work                    Road work\n",
       "img5.png       23         Slippery road                Slippery road\n",
       "img2.png       17              No entry                     No entry\n",
       "img3.png       30    Beware of ice/snow            Bycicles crossing\n",
       "img4.png        0  Speed limit (20km/h)  Recommended speed (70 km/h)"
      ]
     },
     "execution_count": 37,
     "metadata": {},
     "output_type": "execute_result"
    }
   ],
   "source": [
    "### Calculate the accuracy for these 5 new images. \n",
    "### For example, if the model predicted 1 out of 5 signs correctly, it's 20% accurate on these new images.\n",
    "correct_series = pd.Series([\"Road work\",\"Slippery road\", \"No entry\",\"Bycicles crossing\", \"Recommended speed (70 km/h)\"], index=test_files, name=\"Correct\")\n",
    "sign_names_df.iloc[idx_sign,:].set_index([test_files]).join(correct_series)"
   ]
  },
  {
   "cell_type": "markdown",
   "metadata": {},
   "source": [
    "Our CNN has an accuracy of 60% on new images. The last two images were more tricky to predict. These images are from spanish traffic signs."
   ]
  },
  {
   "cell_type": "markdown",
   "metadata": {},
   "source": [
    "### Output Top 5 Softmax Probabilities For Each Image Found on the Web"
   ]
  },
  {
   "cell_type": "markdown",
   "metadata": {},
   "source": [
    "For each of the new images, print out the model's softmax probabilities to show the **certainty** of the model's predictions (limit the output to the top 5 probabilities for each image). [`tf.nn.top_k`](https://www.tensorflow.org/versions/r0.12/api_docs/python/nn.html#top_k) could prove helpful here. \n",
    "\n",
    "The example below demonstrates how tf.nn.top_k can be used to find the top k predictions for each image.\n",
    "\n",
    "`tf.nn.top_k` will return the values and indices (class ids) of the top k predictions. So if k=3, for each sign, it'll return the 3 largest probabilities (out of a possible 43) and the correspoding class ids.\n",
    "\n",
    "Take this numpy array as an example. The values in the array represent predictions. The array contains softmax probabilities for five candidate images with six possible classes. `tk.nn.top_k` is used to choose the three classes with the highest probability:\n",
    "\n",
    "```\n",
    "# (5, 6) array\n",
    "a = np.array([[ 0.24879643,  0.07032244,  0.12641572,  0.34763842,  0.07893497,\n",
    "         0.12789202],\n",
    "       [ 0.28086119,  0.27569815,  0.08594638,  0.0178669 ,  0.18063401,\n",
    "         0.15899337],\n",
    "       [ 0.26076848,  0.23664738,  0.08020603,  0.07001922,  0.1134371 ,\n",
    "         0.23892179],\n",
    "       [ 0.11943333,  0.29198961,  0.02605103,  0.26234032,  0.1351348 ,\n",
    "         0.16505091],\n",
    "       [ 0.09561176,  0.34396535,  0.0643941 ,  0.16240774,  0.24206137,\n",
    "         0.09155967]])\n",
    "```\n",
    "\n",
    "Running it through `sess.run(tf.nn.top_k(tf.constant(a), k=3))` produces:\n",
    "\n",
    "```\n",
    "TopKV2(values=array([[ 0.34763842,  0.24879643,  0.12789202],\n",
    "       [ 0.28086119,  0.27569815,  0.18063401],\n",
    "       [ 0.26076848,  0.23892179,  0.23664738],\n",
    "       [ 0.29198961,  0.26234032,  0.16505091],\n",
    "       [ 0.34396535,  0.24206137,  0.16240774]]), indices=array([[3, 0, 5],\n",
    "       [0, 1, 4],\n",
    "       [0, 5, 1],\n",
    "       [1, 3, 5],\n",
    "       [1, 4, 3]], dtype=int32))\n",
    "```\n",
    "\n",
    "Looking just at the first row we get `[ 0.34763842,  0.24879643,  0.12789202]`, you can confirm these are the 3 largest probabilities in `a`. You'll also notice `[3, 0, 5]` are the corresponding indices."
   ]
  },
  {
   "cell_type": "code",
   "execution_count": 38,
   "metadata": {},
   "outputs": [],
   "source": [
    "### Print out the top five softmax probabilities for the predictions on the German traffic sign images found on the web. \n",
    "### Feel free to use as many code cells as needed.\n",
    "# The same normalization preprocess needs to be applied to test images\n",
    "\n",
    "with tf.Session() as sess:\n",
    "      \n",
    "    new_saver = tf.train.import_meta_graph('lenet.meta')  \n",
    "    new_saver.restore(sess, tf.train.latest_checkpoint('.'))       \n",
    "    predicted_logits_k = sess.run(tf.nn.top_k(tf.nn.softmax(logits),k=5), feed_dict={x: arrayTest_norm, keep_prob: 1.0})\n"
   ]
  },
  {
   "cell_type": "code",
   "execution_count": 39,
   "metadata": {},
   "outputs": [],
   "source": [
    "topk_df = pd.DataFrame(predicted_logits_k.indices, columns=['Top 1','Top 2','Top 3', 'Top 4', 'Top 5'], index=[test_files])\n",
    "\n",
    "# Change in every column the classId by its corresponding name\n",
    "for col in topk_df:\n",
    "    topk_df[col] = topk_df[col].apply(lambda x:sign_names_df.loc[x][\"SignName\"])"
   ]
  },
  {
   "cell_type": "code",
   "execution_count": 40,
   "metadata": {},
   "outputs": [
    {
     "data": {
      "text/html": [
       "<div>\n",
       "<style>\n",
       "    .dataframe thead tr:only-child th {\n",
       "        text-align: right;\n",
       "    }\n",
       "\n",
       "    .dataframe thead th {\n",
       "        text-align: left;\n",
       "    }\n",
       "\n",
       "    .dataframe tbody tr th {\n",
       "        vertical-align: top;\n",
       "    }\n",
       "</style>\n",
       "<table border=\"1\" class=\"dataframe\">\n",
       "  <thead>\n",
       "    <tr style=\"text-align: right;\">\n",
       "      <th></th>\n",
       "      <th>Top 1</th>\n",
       "      <th>Top 2</th>\n",
       "      <th>Top 3</th>\n",
       "      <th>Top 4</th>\n",
       "      <th>Top 5</th>\n",
       "    </tr>\n",
       "  </thead>\n",
       "  <tbody>\n",
       "    <tr>\n",
       "      <th>img1.png</th>\n",
       "      <td>Road work</td>\n",
       "      <td>Dangerous curve to the right</td>\n",
       "      <td>Right-of-way at the next intersection</td>\n",
       "      <td>Beware of ice/snow</td>\n",
       "      <td>General caution</td>\n",
       "    </tr>\n",
       "    <tr>\n",
       "      <th>img5.png</th>\n",
       "      <td>Slippery road</td>\n",
       "      <td>Right-of-way at the next intersection</td>\n",
       "      <td>Beware of ice/snow</td>\n",
       "      <td>Speed limit (20km/h)</td>\n",
       "      <td>Speed limit (30km/h)</td>\n",
       "    </tr>\n",
       "    <tr>\n",
       "      <th>img2.png</th>\n",
       "      <td>No entry</td>\n",
       "      <td>No passing</td>\n",
       "      <td>Yield</td>\n",
       "      <td>Stop</td>\n",
       "      <td>Keep left</td>\n",
       "    </tr>\n",
       "    <tr>\n",
       "      <th>img3.png</th>\n",
       "      <td>Beware of ice/snow</td>\n",
       "      <td>Bicycles crossing</td>\n",
       "      <td>Right-of-way at the next intersection</td>\n",
       "      <td>Children crossing</td>\n",
       "      <td>Slippery road</td>\n",
       "    </tr>\n",
       "    <tr>\n",
       "      <th>img4.png</th>\n",
       "      <td>Speed limit (20km/h)</td>\n",
       "      <td>Turn left ahead</td>\n",
       "      <td>Stop</td>\n",
       "      <td>Speed limit (120km/h)</td>\n",
       "      <td>Keep right</td>\n",
       "    </tr>\n",
       "  </tbody>\n",
       "</table>\n",
       "</div>"
      ],
      "text/plain": [
       "                         Top 1                                  Top 2  \\\n",
       "img1.png             Road work           Dangerous curve to the right   \n",
       "img5.png         Slippery road  Right-of-way at the next intersection   \n",
       "img2.png              No entry                             No passing   \n",
       "img3.png    Beware of ice/snow                      Bicycles crossing   \n",
       "img4.png  Speed limit (20km/h)                        Turn left ahead   \n",
       "\n",
       "                                          Top 3                  Top 4  \\\n",
       "img1.png  Right-of-way at the next intersection     Beware of ice/snow   \n",
       "img5.png                     Beware of ice/snow   Speed limit (20km/h)   \n",
       "img2.png                                  Yield                   Stop   \n",
       "img3.png  Right-of-way at the next intersection      Children crossing   \n",
       "img4.png                                   Stop  Speed limit (120km/h)   \n",
       "\n",
       "                         Top 5  \n",
       "img1.png       General caution  \n",
       "img5.png  Speed limit (30km/h)  \n",
       "img2.png             Keep left  \n",
       "img3.png         Slippery road  \n",
       "img4.png            Keep right  "
      ]
     },
     "execution_count": 40,
     "metadata": {},
     "output_type": "execute_result"
    }
   ],
   "source": [
    "topk_df"
   ]
  },
  {
   "cell_type": "code",
   "execution_count": 47,
   "metadata": {},
   "outputs": [
    {
     "data": {
      "image/png": "[encoded data removed]",
      "text/plain": [
       "<matplotlib.figure.Figure at 0x7f9f741a8518>"
      ]
     },
     "metadata": {},
     "output_type": "display_data"
    }
   ],
   "source": [
    "def visualize(pics, prob, pred):\n",
    "    num_images = len(pics)\n",
    "    fig, ax = plt.subplots(num_images, 2, figsize=(10,10))\n",
    "    \n",
    "    for i in range(num_images) :\n",
    "        labels = pred[i]\n",
    "        names = [sign_names_df.iloc[l]['SignName'] for l in labels]\n",
    "        bars = np.arange(5)[::-1]\n",
    "        ax[i,0].imshow(pics[i])\n",
    "        ax[i,1].barh(bars, prob[i])\n",
    "        ax[i,1].set_yticks(bars)\n",
    "        ax[i,1].set_yticklabels(names)\n",
    "        ax[i,1].yaxis.tick_right()\n",
    "        ax[i,1].set_xlim([0,1])\n",
    "        ax[i,1].\n",
    "    fig.tight_layout()\n",
    "    \n",
    "prob = predicted_logits_k[0]\n",
    "pred_class = predicted_logits_k[1]\n",
    "visualize(arrayTest, prob, pred_class)"
   ]
  },
  {
   "cell_type": "markdown",
   "metadata": {},
   "source": [
    "### Project Writeup\n",
    "\n",
    "Once you have completed the code implementation, document your results in a project writeup using this [template](https://github.com/udacity/CarND-Traffic-Sign-Classifier-Project/blob/master/writeup_template.md) as a guide. The writeup can be in a markdown or pdf file. "
   ]
  },
  {
   "cell_type": "markdown",
   "metadata": {},
   "source": [
    "> **Note**: Once you have completed all of the code implementations and successfully answered each question above, you may finalize your work by exporting the iPython Notebook as an HTML document. You can do this by using the menu above and navigating to  \\n\",\n",
    "    \"**File -> Download as -> HTML (.html)**. Include the finished document along with this notebook as your submission."
   ]
  },
  {
   "cell_type": "markdown",
   "metadata": {},
   "source": [
    "---\n",
    "\n",
    "## Step 4 (Optional): Visualize the Neural Network's State with Test Images\n",
    "\n",
    " This Section is not required to complete but acts as an additional excersise for understaning the output of a neural network's weights. While neural networks can be a great learning device they are often referred to as a black box. We can understand what the weights of a neural network look like better by plotting their feature maps. After successfully training your neural network you can see what it's feature maps look like by plotting the output of the network's weight layers in response to a test stimuli image. From these plotted feature maps, it's possible to see what characteristics of an image the network finds interesting. For a sign, maybe the inner network feature maps react with high activation to the sign's boundary outline or to the contrast in the sign's painted symbol.\n",
    "\n",
    " Provided for you below is the function code that allows you to get the visualization output of any tensorflow weight layer you want. The inputs to the function should be a stimuli image, one used during training or a new one you provided, and then the tensorflow variable name that represents the layer's state during the training process, for instance if you wanted to see what the [LeNet lab's](https://classroom.udacity.com/nanodegrees/nd013/parts/fbf77062-5703-404e-b60c-95b78b2f3f9e/modules/6df7ae49-c61c-4bb2-a23e-6527e69209ec/lessons/601ae704-1035-4287-8b11-e2c2716217ad/concepts/d4aca031-508f-4e0b-b493-e7b706120f81) feature maps looked like for it's second convolutional layer you could enter conv2 as the tf_activation variable.\n",
    "\n",
    "For an example of what feature map outputs look like, check out NVIDIA's results in their paper [End-to-End Deep Learning for Self-Driving Cars](https://devblogs.nvidia.com/parallelforall/deep-learning-self-driving-cars/) in the section Visualization of internal CNN State. NVIDIA was able to show that their network's inner weights had high activations to road boundary lines by comparing feature maps from an image with a clear path to one without. Try experimenting with a similar test to show that your trained network's weights are looking for interesting features, whether it's looking at differences in feature maps from images with or without a sign, or even what feature maps look like in a trained network vs a completely untrained one on the same sign image.\n",
    "\n",
    "<figure>\n",
    " <img src=\"visualize_cnn.png\" width=\"380\" alt=\"Combined Image\" />\n",
    " <figcaption>\n",
    " <p></p> \n",
    " <p style=\"text-align: center;\"> Your output should look something like this (above)</p> \n",
    " </figcaption>\n",
    "</figure>\n",
    " <p></p> \n"
   ]
  },
  {
   "cell_type": "code",
   "execution_count": null,
   "metadata": {
    "collapsed": true
   },
   "outputs": [],
   "source": [
    "### Visualize your network's feature maps here.\n",
    "### Feel free to use as many code cells as needed.\n",
    "\n",
    "# image_input: the test image being fed into the network to produce the feature maps\n",
    "# tf_activation: should be a tf variable name used during your training procedure that represents the calculated state of a specific weight layer\n",
    "# activation_min/max: can be used to view the activation contrast in more detail, by default matplot sets min and max to the actual min and max values of the output\n",
    "# plt_num: used to plot out multiple different weight feature map sets on the same block, just extend the plt number for each new feature map entry\n",
    "\n",
    "def outputFeatureMap(image_input, tf_activation, activation_min=-1, activation_max=-1 ,plt_num=1):\n",
    "    # Here make sure to preprocess your image_input in a way your network expects\n",
    "    # with size, normalization, ect if needed\n",
    "    # image_input =\n",
    "    # Note: x should be the same name as your network's tensorflow data placeholder variable\n",
    "    # If you get an error tf_activation is not defined it may be having trouble accessing the variable from inside a function\n",
    "    activation = tf_activation.eval(session=sess,feed_dict={x : image_input})\n",
    "    featuremaps = activation.shape[3]\n",
    "    plt.figure(plt_num, figsize=(15,15))\n",
    "    for featuremap in range(featuremaps):\n",
    "        plt.subplot(6,8, featuremap+1) # sets the number of feature maps to show on each row and column\n",
    "        plt.title('FeatureMap ' + str(featuremap)) # displays the feature map number\n",
    "        if activation_min != -1 & activation_max != -1:\n",
    "            plt.imshow(activation[0,:,:, featuremap], interpolation=\"nearest\", vmin =activation_min, vmax=activation_max, cmap=\"gray\")\n",
    "        elif activation_max != -1:\n",
    "            plt.imshow(activation[0,:,:, featuremap], interpolation=\"nearest\", vmax=activation_max, cmap=\"gray\")\n",
    "        elif activation_min !=-1:\n",
    "            plt.imshow(activation[0,:,:, featuremap], interpolation=\"nearest\", vmin=activation_min, cmap=\"gray\")\n",
    "        else:\n",
    "            plt.imshow(activation[0,:,:, featuremap], interpolation=\"nearest\", cmap=\"gray\")"
   ]
  }
 ],
 "metadata": {
  "anaconda-cloud": {},
  "kernelspec": {
   "display_name": "Python [conda env:carnd-term1]",
   "language": "python",
   "name": "conda-env-carnd-term1-py"
  },
  "language_info": {
   "codemirror_mode": {
    "name": "ipython",
    "version": 3
   },
   "file_extension": ".py",
   "mimetype": "text/x-python",
   "name": "python",
   "nbconvert_exporter": "python",
   "pygments_lexer": "ipython3",
   "version": "3.5.2"
  },
  "widgets": {
   "state": {},
   "version": "1.1.2"
  }
 },
 "nbformat": 4,
 "nbformat_minor": 1
}
